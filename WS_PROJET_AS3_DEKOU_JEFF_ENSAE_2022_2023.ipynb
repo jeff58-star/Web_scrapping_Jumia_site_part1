{
 "cells": [
  {
   "cell_type": "code",
   "execution_count": 3,
   "id": "4779e0bb",
   "metadata": {},
   "outputs": [],
   "source": [
    "#pip install selenium"
   ]
  },
  {
   "cell_type": "code",
   "execution_count": 2,
   "id": "d67a99ca",
   "metadata": {},
   "outputs": [],
   "source": [
    "import selenium\n",
    "import builtwith\n",
    "from selenium import webdriver\n",
    "from selenium.webdriver.common.by import By\n",
    "import time\n",
    "import requests\n",
    "import requests\n",
    "from bs4 import BeautifulSoup\n",
    "import csv"
   ]
  },
  {
   "cell_type": "markdown",
   "id": "1efe2df4",
   "metadata": {},
   "source": [
    "# JUMIA "
   ]
  },
  {
   "cell_type": "markdown",
   "id": "f92ac056",
   "metadata": {},
   "source": [
    "##       Scrapper les appareils electromenagers de Jumia \n"
   ]
  },
  {
   "cell_type": "markdown",
   "id": "55731c8e",
   "metadata": {},
   "source": [
    "### Conditions d'utilisation et strucrure du site ###"
   ]
  },
  {
   "cell_type": "code",
   "execution_count": 102,
   "id": "811f5093",
   "metadata": {},
   "outputs": [
    {
     "data": {
      "text/plain": [
       "{'cdn': ['CloudFlare'],\n",
       " 'javascript-frameworks': ['Prototype', 'RequireJS', 'Vue.js']}"
      ]
     },
     "execution_count": 102,
     "metadata": {},
     "output_type": "execute_result"
    }
   ],
   "source": [
    "builtwith.parse('https://www.jumia.sn/maison-bureau-electromenager/')\n"
   ]
  },
  {
   "cell_type": "markdown",
   "id": "a2ab040c",
   "metadata": {},
   "source": [
    "### Robots.txt "
   ]
  },
  {
   "cell_type": "code",
   "execution_count": null,
   "id": "6973d248",
   "metadata": {},
   "outputs": [],
   "source": [
    "url = 'https://www.jumia.sn/maison-bureau-electromenager/'\n",
    "response = requests.get(url)\n",
    "\n",
    "if response.status_code == 200:\n",
    "    print(response.text)\n",
    "else:\n",
    "    print(f\"Erreur {response.status_code} lors de la récupération de robots.txt.\")\n"
   ]
  },
  {
   "cell_type": "code",
   "execution_count": 104,
   "id": "9bff33ce",
   "metadata": {},
   "outputs": [
    {
     "name": "stdout",
     "output_type": "stream",
     "text": [
      "<title>Electroménager Sénégal - Tous les appareils électroménagers pas cher | Jumia</title>\n"
     ]
    }
   ],
   "source": [
    "url = 'https://www.jumia.sn/maison-bureau-electromenager/'\n",
    "# Récuperer les données de la page html\n",
    "html_content = requests.get(url).text\n",
    "\n",
    "#Récupérer les informations de format lxml de la table\n",
    "soup = BeautifulSoup(html_content, \"lxml\")\n",
    "#print(soup)\n",
    "print(soup.title)\n"
   ]
  },
  {
   "cell_type": "code",
   "execution_count": 105,
   "id": "966a7bd5",
   "metadata": {},
   "outputs": [
    {
     "name": "stdout",
     "output_type": "stream",
     "text": [
      "<title>Electroménager Sénégal - Tous les appareils électroménagers pas cher | Jumia</title>\n"
     ]
    }
   ],
   "source": [
    "#print(soup)\n",
    "print(soup.title)"
   ]
  },
  {
   "cell_type": "markdown",
   "id": "3f3b635e",
   "metadata": {},
   "source": [
    "### Les réfrigérateurs "
   ]
  },
  {
   "cell_type": "markdown",
   "id": "8d283f21",
   "metadata": {},
   "source": [
    "## Selenium"
   ]
  },
  {
   "cell_type": "code",
   "execution_count": 7,
   "id": "c3344681",
   "metadata": {},
   "outputs": [],
   "source": [
    "#installer le chromedriver et copier lechemin d'accèes comme effectué en bas \n",
    "from selenium import webdriver\n",
    "from selenium.webdriver.common.by import By\n",
    "import time\n",
    "\n",
    "driver = webdriver.Chrome(executable_path = \"C:\\Program(x86)\\\\chromedriver.exe\")\n",
    "driver.get(\"https://www.jumia.sn/maison-bureau-electromenager/ \")\n",
    "main = driver.find_element(By.XPATH, '//*[@id=\"ctlg\"]/div/div[3]/section/div/div/div[1]/article/a/div[1]')\n",
    "prix = driver.find_element(By.XPATH, '//*[@id=\"ctlg\"]/div/div[3]/section/div/div/div[1]/article/a/div[2]')\n",
    "percent_reduction = driver.find_element(By.XPATH, '//*[@id=\"ctlg\"]/div/div[3]/section/div/div/div[1]/article/a/div[3]')\n",
    "#print(driver.title)\n",
    "text = main.get_attribute(\"innerHTML\")\n",
    "price = prix.get_attribute(\"innerHTML\")\n",
    "percent_reduction = percent_reduction.get_attribute(\"innerHTML\")\n",
    "print(text)\n",
    "print(price)\n",
    "print(percent_reduction)"
   ]
  },
  {
   "cell_type": "code",
   "execution_count": null,
   "id": "fa245819",
   "metadata": {},
   "outputs": [],
   "source": [
    "from selenium import webdriver\n",
    "from selenium.webdriver.common.by import By\n",
    "import time\n",
    "\n",
    "driver = webdriver.Chrome(executable_path = \"C:\\Program(x86)\\\\chromedriver.exe\")\n",
    "driver.get(\"https://www.jumia.sn/maison-bureau-electromenager/ \")\n",
    "main = driver.find_element(By.XPATH, '//*[@id=\"ctlg\"]/div/div[3]/section/div')\n",
    "#prix = driver.find_element(By.XPATH, '//*[@id=\"ctlg\"]/div/div[3]/section/div/div/div[1]/article/a/div[2]')\n",
    "#percent_reduction = driver.find_element(By.XPATH, '//*[@id=\"ctlg\"]/div/div[3]/section/div/div/div[1]/article/a/div[3]')\n",
    "#print(driver.title)\n",
    "text = main.get_attribute(\"innerHTML\")\n",
    "price = prix.get_attribute(\"innerHTML\")\n",
    "percent_reduction = percent_reduction.get_attribute(\"innerHTML\")\n",
    "print(text)\n",
    "print(price)\n",
    "print(percent_reduction)"
   ]
  },
  {
   "cell_type": "code",
   "execution_count": null,
   "id": "d1a51691",
   "metadata": {},
   "outputs": [],
   "source": [
    "#Recueillir les données du premier produit \n",
    "print(\"-------------------------------------\")\n",
    "print ( \"Nom_produit\" + \" : \"+ text )\n",
    "print ( \"prix_sans_promo\" + \" : \"+ price )\n",
    "print ( \"reduction\" + \" : \"+ percent_reduction )\n",
    "print(\"-------------------------------------\")"
   ]
  },
  {
   "cell_type": "code",
   "execution_count": null,
   "id": "3d057fa6",
   "metadata": {},
   "outputs": [],
   "source": [
    "#Site1_de_electromenagers \n",
    "from selenium import webdriver\n",
    "from selenium.webdriver.common.by import By\n",
    "import time\n",
    "\n",
    "driver = webdriver.Chrome(executable_path = \"C:\\Program(x86)\\\\chromedriver.exe\")\n",
    "driver.get(\"https://www.jumia.sn/maison-bureau-electromenager/ \")\n",
    "\n",
    "titles = []\n",
    "prices = []\n",
    "percent_discounts = []\n",
    "\n",
    "products = driver.find_elements(By.XPATH, '//*[@id=\"ctlg\"]/div/div[3]/section/div/div/div')\n",
    "\n",
    "for product in products:\n",
    "    title_element = product.find_element(By.XPATH, './article/a/div[1]')\n",
    "    price_element = product.find_element(By.XPATH, './article/a/div[2]')\n",
    "    percent_discount_element = product.find_element(By.XPATH, './article/a/div[3]')\n",
    "    \n",
    "    title = title_element.get_attribute(\"innerHTML\")\n",
    "    price = price_element.get_attribute(\"innerHTML\")\n",
    "    percent_discount = percent_discount_element.get_attribute(\"innerHTML\")\n",
    "    \n",
    "    titles.append(title)\n",
    "    prices.append(price)\n",
    "    percent_discounts.append(percent_discount)\n",
    "\n",
    "#for i in range(len(titles)):\n",
    "    #print(f\"Product {i+1}:\")\n",
    "    #print(f\"Title: {titles[i]}\")\n",
    "    #print(f\"Price: {prices[i]}\")\n",
    "    #print(f\"Percent Discount: {percent_discounts[i]}\")\n",
    "   # print(\"====================================\")\n",
    "mydict=[]\n",
    "#FIELDS NAMES \n",
    "fields = ['numero de produit','Nom de produits','prix des produits', 'pourcentage_promo']\n",
    "\n",
    "\n",
    "for i in range(len(titles)):\n",
    "            mydict.append({'numero de produit':i+1 ,'Nom de produits':titles[i],\n",
    "                          'prix des produits':prices[i], 'pourcentage_promo':percent_discounts[i]})\n",
    "   \n",
    "    "
   ]
  },
  {
   "cell_type": "code",
   "execution_count": 90,
   "id": "62e9f1cd",
   "metadata": {},
   "outputs": [],
   "source": [
    "import csv\n",
    "#Name of csv file \n",
    "filename = \"C:/Users/DELL/Desktop/Projets_AS3/Web_scrapping/Jumiafrigo.csv\"\n",
    "\n",
    "#Writing to csv file \n",
    "with open (filename, 'w') as csvfile :\n",
    "    #creating a csv diet writer \n",
    "    writer =  csv.DictWriter(csvfile , delimiter = ';', fieldnames = fields)\n",
    "    \n",
    "    #Ecrire en tete \n",
    "    writer.writeheader()\n",
    "    #writing data rows\n",
    "    writer.writerows(mydict)"
   ]
  },
  {
   "cell_type": "markdown",
   "id": "93be4925",
   "metadata": {},
   "source": [
    "### Les machine à laver "
   ]
  },
  {
   "cell_type": "code",
   "execution_count": 94,
   "id": "a0a3200e",
   "metadata": {},
   "outputs": [
    {
     "name": "stderr",
     "output_type": "stream",
     "text": [
      "C:\\Users\\DELL\\AppData\\Local\\Temp\\ipykernel_1336\\3729487069.py:6: DeprecationWarning: executable_path has been deprecated, please pass in a Service object\n",
      "  driver = webdriver.Chrome(executable_path = \"C:\\Program(x86)\\\\chromedriver.exe\")\n"
     ]
    }
   ],
   "source": [
    "#Site1_de_electromenagers \n",
    "from selenium import webdriver\n",
    "from selenium.webdriver.common.by import By\n",
    "import time\n",
    "\n",
    "driver = webdriver.Chrome(executable_path = \"C:\\Program(x86)\\\\chromedriver.exe\")\n",
    "driver.get(\"https://www.jumia.sn/maison-bureau-electromenager/ \")\n",
    "\n",
    "titles = []\n",
    "prices = []\n",
    "percent_discounts = []\n",
    "\n",
    "products = driver.find_elements(By.XPATH, '//*[@id=\"ctlg\"]/div/div[6]/section/div/div/div')\n",
    "\n",
    "for product in products:\n",
    "    title_element = product.find_element(By.XPATH, './article/a/div[1]')\n",
    "    price_element = product.find_element(By.XPATH, './article/a/div[2]')\n",
    "    percent_discount_element = product.find_element(By.XPATH, './article/a/div[3]')\n",
    "    \n",
    "    title = title_element.get_attribute(\"innerHTML\")\n",
    "    price = price_element.get_attribute(\"innerHTML\")\n",
    "    percent_discount = percent_discount_element.get_attribute(\"innerHTML\")\n",
    "    \n",
    "    titles.append(title)\n",
    "    prices.append(price)\n",
    "    percent_discounts.append(percent_discount)\n",
    "\n",
    "#for i in range(len(titles)):\n",
    "    #print(f\"Product {i+1}:\")\n",
    "    #print(f\"Title: {titles[i]}\")\n",
    "    #print(f\"Price: {prices[i]}\")\n",
    "    #print(f\"Percent Discount: {percent_discounts[i]}\")\n",
    "   # print(\"====================================\")\n",
    "mydict=[]\n",
    "#FIELDS NAMES \n",
    "fields = ['numero de produit','Nom de produits','prix des produits', 'pourcentage_promo']\n",
    "\n",
    "\n",
    "for i in range(len(titles)):\n",
    "            mydict.append({'numero de produit':i+1 ,'Nom de produits':titles[i],\n",
    "                          'prix des produits':prices[i], 'pourcentage_promo':percent_discounts[i]})\n",
    "            \n",
    "########################################################################################################################\n",
    "import csv\n",
    "#Name of csv file \n",
    "filename = \"C:/Users/DELL/Desktop/Projets_AS3/Web_scrapping/Jumiamachinelaver.csv\"\n",
    "\n",
    "#Writing to csv file \n",
    "with open (filename, 'w') as csvfile :\n",
    "    #creating a csv diet writer \n",
    "    writer =  csv.DictWriter(csvfile , delimiter = ';', fieldnames = fields)\n",
    "    \n",
    "    #Ecrire en tete \n",
    "    writer.writeheader()\n",
    "    #writing data rows\n",
    "    writer.writerows(mydict)\n",
    "   \n",
    "    "
   ]
  },
  {
   "cell_type": "markdown",
   "id": "4194daa0",
   "metadata": {},
   "source": [
    "### Congélateur "
   ]
  },
  {
   "cell_type": "code",
   "execution_count": 95,
   "id": "0362d8bf",
   "metadata": {},
   "outputs": [
    {
     "name": "stderr",
     "output_type": "stream",
     "text": [
      "C:\\Users\\DELL\\AppData\\Local\\Temp\\ipykernel_1336\\552456890.py:6: DeprecationWarning: executable_path has been deprecated, please pass in a Service object\n",
      "  driver = webdriver.Chrome(executable_path = \"C:\\Program(x86)\\\\chromedriver.exe\")\n"
     ]
    }
   ],
   "source": [
    "#Site1_de_electromenagers \n",
    "from selenium import webdriver\n",
    "from selenium.webdriver.common.by import By\n",
    "import time\n",
    "\n",
    "driver = webdriver.Chrome(executable_path = \"C:\\Program(x86)\\\\chromedriver.exe\")\n",
    "driver.get(\"https://www.jumia.sn/maison-bureau-electromenager/ \")\n",
    "\n",
    "titles = []\n",
    "prices = []\n",
    "percent_discounts = []\n",
    "\n",
    "products = driver.find_elements(By.XPATH, '//*[@id=\"ctlg\"]/div/div[7]/section/div/div/div')\n",
    "\n",
    "for product in products:\n",
    "    title_element = product.find_element(By.XPATH, './article/a/div[1]')\n",
    "    price_element = product.find_element(By.XPATH, './article/a/div[2]')\n",
    "    percent_discount_element = product.find_element(By.XPATH, './article/a/div[3]')\n",
    "    \n",
    "    title = title_element.get_attribute(\"innerHTML\")\n",
    "    price = price_element.get_attribute(\"innerHTML\")\n",
    "    percent_discount = percent_discount_element.get_attribute(\"innerHTML\")\n",
    "    \n",
    "    titles.append(title)\n",
    "    prices.append(price)\n",
    "    percent_discounts.append(percent_discount)\n",
    "\n",
    "#for i in range(len(titles)):\n",
    "    #print(f\"Product {i+1}:\")\n",
    "    #print(f\"Title: {titles[i]}\")\n",
    "    #print(f\"Price: {prices[i]}\")\n",
    "    #print(f\"Percent Discount: {percent_discounts[i]}\")\n",
    "   # print(\"====================================\")\n",
    "mydict=[]\n",
    "#FIELDS NAMES \n",
    "fields = ['numero de produit','Nom de produits','prix des produits', 'pourcentage_promo']\n",
    "\n",
    "\n",
    "for i in range(len(titles)):\n",
    "            mydict.append({'numero de produit':i+1 ,'Nom de produits':titles[i],\n",
    "                          'prix des produits':prices[i], 'pourcentage_promo':percent_discounts[i]})\n",
    "            \n",
    "########################################################################################################################\n",
    "import csv\n",
    "#Name of csv file \n",
    "filename = \"C:/Users/DELL/Desktop/Projets_AS3/Web_scrapping/Jumiacongelo.csv\"\n",
    "\n",
    "#Writing to csv file \n",
    "with open (filename, 'w') as csvfile :\n",
    "    #creating a csv diet writer \n",
    "    writer =  csv.DictWriter(csvfile , delimiter = ';', fieldnames = fields)\n",
    "    \n",
    "    #Ecrire en tete \n",
    "    writer.writeheader()\n",
    "    #writing data rows\n",
    "    writer.writerows(mydict)\n",
    "   "
   ]
  },
  {
   "cell_type": "markdown",
   "id": "15844cf0",
   "metadata": {},
   "source": [
    "### Cuisiniere "
   ]
  },
  {
   "cell_type": "code",
   "execution_count": 107,
   "id": "55c18b54",
   "metadata": {},
   "outputs": [
    {
     "name": "stderr",
     "output_type": "stream",
     "text": [
      "C:\\Users\\DELL\\AppData\\Local\\Temp\\ipykernel_1336\\3463468636.py:6: DeprecationWarning: executable_path has been deprecated, please pass in a Service object\n",
      "  driver = webdriver.Chrome(executable_path = \"C:\\Program(x86)\\\\chromedriver.exe\")\n"
     ]
    }
   ],
   "source": [
    "#Site1_de_electromenagers \n",
    "from selenium import webdriver\n",
    "from selenium.webdriver.common.by import By\n",
    "import time\n",
    "\n",
    "driver = webdriver.Chrome(executable_path = \"C:\\Program(x86)\\\\chromedriver.exe\")\n",
    "driver.get(\"https://www.jumia.sn/maison-bureau-electromenager/ \")\n",
    "\n",
    "titles = []\n",
    "prices = []\n",
    "percent_discounts = []\n",
    "\n",
    "products = driver.find_elements(By.XPATH, '//*[@id=\"ctlg\"]/div/div[8]/section/div/div/div')\n",
    "\n",
    "for product in products:\n",
    "    title_element = product.find_element(By.XPATH, './article/a/div[1]')\n",
    "    price_element = product.find_element(By.XPATH, './article/a/div[2]')\n",
    "    percent_discount_element = product.find_element(By.XPATH, './article/a/div[3]')\n",
    "    \n",
    "    title = title_element.get_attribute(\"innerHTML\")\n",
    "    price = price_element.get_attribute(\"innerHTML\")\n",
    "    percent_discount = percent_discount_element.get_attribute(\"innerHTML\")\n",
    "    \n",
    "    titles.append(title)\n",
    "    prices.append(price)\n",
    "    percent_discounts.append(percent_discount)\n",
    "\n",
    "#for i in range(len(titles)):\n",
    "    #print(f\"Product {i+1}:\")\n",
    "    #print(f\"Title: {titles[i]}\")\n",
    "    #print(f\"Price: {prices[i]}\")\n",
    "    #print(f\"Percent Discount: {percent_discounts[i]}\")\n",
    "   # print(\"====================================\")\n",
    "mydict=[]\n",
    "#FIELDS NAMES \n",
    "fields = ['numero de produit','Nom de produits','prix des produits', 'pourcentage_promo']\n",
    "\n",
    "\n",
    "for i in range(len(titles)):\n",
    "            mydict.append({'numero de produit':i+1 ,'Nom de produits':titles[i],\n",
    "                          'prix des produits':prices[i], 'pourcentage_promo':percent_discounts[i]})\n",
    "            \n",
    "########################################################################################################################\n",
    "import csv\n",
    "#Name of csv file \n",
    "filename = \"C:/Users/DELL/Desktop/Projets_AS3/Web_scrapping/Jumiacuisino.csv\"\n",
    "\n",
    "#Writing to csv file \n",
    "with open (filename, 'w') as csvfile :\n",
    "    #creating a csv diet writer \n",
    "    writer =  csv.DictWriter(csvfile , delimiter = ';', fieldnames = fields)\n",
    "    \n",
    "    #Ecrire en tete \n",
    "    writer.writeheader()\n",
    "    #writing data rows\n",
    "    writer.writerows(mydict)"
   ]
  },
  {
   "cell_type": "markdown",
   "id": "4db73cc4",
   "metadata": {},
   "source": [
    "## 2 eme partie WS : Scraping des articles vestimentaires  sur Jumia "
   ]
  },
  {
   "cell_type": "markdown",
   "id": "c675b821",
   "metadata": {},
   "source": [
    "### Partie1 d'article vesti"
   ]
  },
  {
   "cell_type": "code",
   "execution_count": 98,
   "id": "906ee441",
   "metadata": {},
   "outputs": [
    {
     "name": "stderr",
     "output_type": "stream",
     "text": [
      "C:\\Users\\DELL\\AppData\\Local\\Temp\\ipykernel_1336\\965565275.py:6: DeprecationWarning: executable_path has been deprecated, please pass in a Service object\n",
      "  driver = webdriver.Chrome(executable_path = \"C:\\Program(x86)\\\\chromedriver.exe\")\n"
     ]
    }
   ],
   "source": [
    " \n",
    "from selenium import webdriver\n",
    "from selenium.webdriver.common.by import By\n",
    "import time\n",
    "\n",
    "driver = webdriver.Chrome(executable_path = \"C:\\Program(x86)\\\\chromedriver.exe\")\n",
    "driver.get(\"https://www.jumia.sn/fashion-mode/\")\n",
    "\n",
    "titles = []\n",
    "prices = []\n",
    "percent_discounts = []\n",
    "\n",
    "products = driver.find_elements(By.XPATH, '//*[@id=\"ctlg\"]/div/div[5]/section/div/div/div')\n",
    "\n",
    "for product in products:\n",
    "    title_element = product.find_element(By.XPATH, './article/a/div[1]')\n",
    "    price_element = product.find_element(By.XPATH, './article/a/div[2]')\n",
    "    percent_discount_element = product.find_element(By.XPATH, './article/a/div[3]')\n",
    "    \n",
    "    title = title_element.get_attribute(\"innerHTML\")\n",
    "    price = price_element.get_attribute(\"innerHTML\")\n",
    "    percent_discount = percent_discount_element.get_attribute(\"innerHTML\")\n",
    "    \n",
    "    titles.append(title)\n",
    "    prices.append(price)\n",
    "    percent_discounts.append(percent_discount)\n",
    "\n",
    "#for i in range(len(titles)):\n",
    "    #print(f\"Product {i+1}:\")\n",
    "    #print(f\"Title: {titles[i]}\")\n",
    "    #print(f\"Price: {prices[i]}\")\n",
    "    #print(f\"Percent Discount: {percent_discounts[i]}\")\n",
    "   # print(\"====================================\")\n",
    "mydict=[]\n",
    "#FIELDS NAMES \n",
    "fields = ['numero de produit','Nom de produits','prix des produits', 'pourcentage_promo']\n",
    "\n",
    "\n",
    "for i in range(len(titles)):\n",
    "            mydict.append({'numero de produit':i+1 ,'Nom de produits':titles[i],\n",
    "                          'prix des produits':prices[i], 'pourcentage_promo':percent_discounts[i]})\n",
    "            \n",
    "########################################################################################################################\n",
    "import csv\n",
    "#Name of csv file \n",
    "filename = \"C:/Users/DELL/Desktop/Projets_AS3/Web_scrapping/Jumiahabit.csv\"\n",
    "\n",
    "#Writing to csv file \n",
    "with open (filename, 'w') as csvfile :\n",
    "    #creating a csv diet writer \n",
    "    writer =  csv.DictWriter(csvfile , delimiter = ';', fieldnames = fields)\n",
    "    \n",
    "    #Ecrire en tete \n",
    "    writer.writeheader()\n",
    "    #writing data rows\n",
    "    writer.writerows(mydict)"
   ]
  },
  {
   "cell_type": "code",
   "execution_count": 110,
   "id": "f2240deb",
   "metadata": {},
   "outputs": [
    {
     "name": "stderr",
     "output_type": "stream",
     "text": [
      "C:\\Users\\DELL\\AppData\\Local\\Temp\\ipykernel_1336\\1575241616.py:5: DeprecationWarning: executable_path has been deprecated, please pass in a Service object\n",
      "  driver = webdriver.Chrome(executable_path = \"C:\\Program(x86)\\\\chromedriver.exe\")\n"
     ]
    }
   ],
   "source": [
    "from selenium import webdriver\n",
    "from selenium.webdriver.common.by import By\n",
    "import time\n",
    "\n",
    "driver = webdriver.Chrome(executable_path = \"C:\\Program(x86)\\\\chromedriver.exe\")\n",
    "driver.get(\"https://www.jumia.sn/fashion-mode/\")\n",
    "\n",
    "titles = []\n",
    "prices = []\n",
    "percent_discounts = []\n",
    "\n",
    "products = driver.find_elements(By.XPATH, '//*[@id=\"ctlg\"]/div/div[11]/section/div/div/div')\n",
    "\n",
    "for product in products:\n",
    "    title_element = product.find_element(By.XPATH, './article/a/div[1]')\n",
    "    price_element = product.find_element(By.XPATH, './article/a/div[2]')\n",
    "    percent_discount_element = product.find_element(By.XPATH, './article/a/div[3]')\n",
    "    \n",
    "    title = title_element.get_attribute(\"innerHTML\")\n",
    "    price = price_element.get_attribute(\"innerHTML\")\n",
    "    percent_discount = percent_discount_element.get_attribute(\"innerHTML\")\n",
    "    \n",
    "    titles.append(title)\n",
    "    prices.append(price)\n",
    "    percent_discounts.append(percent_discount)\n",
    "\n",
    "#for i in range(len(titles)):\n",
    "    #print(f\"Product {i+1}:\")\n",
    "    #print(f\"Title: {titles[i]}\")\n",
    "    #print(f\"Price: {prices[i]}\")\n",
    "    #print(f\"Percent Discount: {percent_discounts[i]}\")\n",
    "   # print(\"====================================\")\n",
    "mydict=[]\n",
    "#FIELDS NAMES \n",
    "fields = ['numero de produit','Nom de produits','prix des produits', 'pourcentage_promo']\n",
    "\n",
    "\n",
    "for i in range(len(titles)):\n",
    "            mydict.append({'numero de produit':i+1 ,'Nom de produits':titles[i],\n",
    "                          'prix des produits':prices[i], 'pourcentage_promo':percent_discounts[i]})\n",
    "            \n",
    "########################################################################################################################\n",
    "import csv\n",
    "#Name of csv file \n",
    "filename = \"C:/Users/DELL/Desktop/Projets_AS3/Web_scrapping/Jumiahabit2.csv\"\n",
    "\n",
    "#Writing to csv file \n",
    "with open (filename, 'w') as csvfile :\n",
    "    #creating a csv diet writer \n",
    "    writer =  csv.DictWriter(csvfile , delimiter = ';', fieldnames = fields)\n",
    "    \n",
    "    #Ecrire en tete \n",
    "    writer.writeheader()\n",
    "    #writing data rows\n",
    "    writer.writerows(mydict)"
   ]
  },
  {
   "cell_type": "markdown",
   "id": "43daa474",
   "metadata": {},
   "source": [
    "#  Fin du scrappages de klk  données sur Jumia sur les 2 postes "
   ]
  },
  {
   "cell_type": "markdown",
   "id": "5842fe0e",
   "metadata": {},
   "source": [
    "# Nous allons a présent scrapper les memes données sur Expat_Dakr pour comparer et choisir le bon site pour les calculs des indices "
   ]
  },
  {
   "cell_type": "markdown",
   "id": "3056a092",
   "metadata": {},
   "source": [
    "#                                                   EXPAT-DAKAR "
   ]
  },
  {
   "cell_type": "markdown",
   "id": "3773d86e",
   "metadata": {},
   "source": [
    "## Scrapper une deuxieme partie des appareils electromenagers sur Expat Dakar\n"
   ]
  },
  {
   "cell_type": "code",
   "execution_count": 111,
   "id": "7c7faa51",
   "metadata": {},
   "outputs": [],
   "source": [
    "import builtwith\n",
    "from selenium import webdriver\n",
    "from selenium.webdriver.common.by import By\n",
    "import time\n",
    "import requests\n",
    "import requests\n",
    "from bs4 import BeautifulSoup\n",
    "import csv"
   ]
  },
  {
   "cell_type": "code",
   "execution_count": 112,
   "id": "f814772c",
   "metadata": {},
   "outputs": [
    {
     "data": {
      "text/plain": [
       "{'cdn': ['CloudFlare'],\n",
       " 'tag-managers': ['Google Tag Manager'],\n",
       " 'javascript-frameworks': ['jQuery']}"
      ]
     },
     "execution_count": 112,
     "metadata": {},
     "output_type": "execute_result"
    }
   ],
   "source": [
    "builtwith.parse('https://www.expat-dakar.com/annonces?q=vetements&sort=relevance')"
   ]
  },
  {
   "cell_type": "markdown",
   "id": "f977f07d",
   "metadata": {},
   "source": [
    "#####  Robots.txt"
   ]
  },
  {
   "cell_type": "code",
   "execution_count": null,
   "id": "7fe3db1d",
   "metadata": {},
   "outputs": [],
   "source": [
    "\n",
    "url = 'https://www.expat-dakar.com/annonces?q=vetements&sort=relevance'\n",
    "response = requests.get(url)\n",
    "\n",
    "if response.status_code == 200:\n",
    "    print(response.text)\n",
    "else:\n",
    "    print(f\"Erreur {response.status_code} lors de la récupération de robots.txt.\")"
   ]
  },
  {
   "cell_type": "code",
   "execution_count": 115,
   "id": "cfa25249",
   "metadata": {},
   "outputs": [
    {
     "name": "stderr",
     "output_type": "stream",
     "text": [
      "C:\\Users\\DELL\\AppData\\Local\\Temp\\ipykernel_1336\\793636838.py:5: DeprecationWarning: executable_path has been deprecated, please pass in a Service object\n",
      "  driver = webdriver.Chrome(executable_path = \"C:\\Program(x86)\\\\chromedriver.exe\")\n"
     ]
    }
   ],
   "source": [
    "from selenium import webdriver\n",
    "from selenium.webdriver.common.by import By\n",
    "import time\n",
    "\n",
    "driver = webdriver.Chrome(executable_path = \"C:\\Program(x86)\\\\chromedriver.exe\")\n",
    "driver.get(\"https://www.expat-dakar.com/annonces?q=vetements&sort=relevance\")\n",
    "#main = driver.find_element(By.XPATH, )"
   ]
  }
 ],
 "metadata": {
  "kernelspec": {
   "display_name": "Python 3 (ipykernel)",
   "language": "python",
   "name": "python3"
  },
  "language_info": {
   "codemirror_mode": {
    "name": "ipython",
    "version": 3
   },
   "file_extension": ".py",
   "mimetype": "text/x-python",
   "name": "python",
   "nbconvert_exporter": "python",
   "pygments_lexer": "ipython3",
   "version": "3.10.9"
  }
 },
 "nbformat": 4,
 "nbformat_minor": 5
}
